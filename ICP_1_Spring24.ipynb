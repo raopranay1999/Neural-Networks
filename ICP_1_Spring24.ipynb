{
 "cells": [
  {
   "cell_type": "code",
   "execution_count": 7,
   "id": "80a11b44",
   "metadata": {},
   "outputs": [
    {
     "name": "stdout",
     "output_type": "stream",
     "text": [
      "Enter the string 'Python': python\n",
      "Reversed String: ntyp\n",
      "Enter the first number: 4\n",
      "Enter the second number: 5\n",
      "Addition: 9.0\n",
      "Subtraction: -1.0\n",
      "Multiplication: 20.0\n",
      "Division: 0.8\n"
     ]
    }
   ],
   "source": [
    "\n",
    "given_string = list(input(\"Enter the string 'Python': \"))\n",
    "\n",
    "\n",
    "if len(given_string) >= 2:\n",
    "    del given_string[3:5]\n",
    "\n",
    "resultant_string = ''.join(reversed(given_string))\n",
    "\n",
    "print(\"Reversed String:\", resultant_string)\n",
    "\n",
    "\n",
    "num1 = float(input(\"Enter the first number: \"))\n",
    "num2 = float(input(\"Enter the second number: \"))\n",
    "\n",
    "addition = num1 + num2\n",
    "subtraction = num1 - num2\n",
    "multiplication = num1 * num2\n",
    "division = num1 / num2\n",
    "\n",
    "\n",
    "print(\"Addition:\", addition)\n",
    "print(\"Subtraction:\", subtraction)\n",
    "print(\"Multiplication:\", multiplication)\n",
    "print(\"Division:\", division)"
   ]
  },
  {
   "cell_type": "code",
   "execution_count": 4,
   "id": "e0873819",
   "metadata": {},
   "outputs": [
    {
     "name": "stdout",
     "output_type": "stream",
     "text": [
      "Enter a sentence: This is python\n",
      "Modified Sentence: This is pythons\n"
     ]
    }
   ],
   "source": [
    "\n",
    "input_string = input(\"Enter a sentence: \")\n",
    "\n",
    "modified_sentence = input_string.replace('python', 'pythons')\n",
    "\n",
    "print(\"Modified Sentence:\", modified_sentence)\n"
   ]
  },
  {
   "cell_type": "code",
   "execution_count": 5,
   "id": "2f26f4f8",
   "metadata": {},
   "outputs": [
    {
     "name": "stdout",
     "output_type": "stream",
     "text": [
      "Enter the class score: 85\n",
      "Letter Grade: B\n"
     ]
    }
   ],
   "source": [
    "\n",
    "class_score = float(input(\"Enter the class score: \"))\n",
    "\n",
    "\n",
    "A_score = 90\n",
    "B_score = 80\n",
    "C_score = 70\n",
    "D_score = 60\n",
    "\n",
    "\n",
    "if class_score >= A_score:\n",
    "    grade = 'A'\n",
    "elif class_score >= B_score:\n",
    "    grade = 'B'\n",
    "elif class_score >= C_score:\n",
    "    grade = 'C'\n",
    "elif class_score >= D_score:\n",
    "    grade = 'D'\n",
    "else:\n",
    "    grade = 'F'\n",
    "\n",
    "# Print the letter grade\n",
    "print(\"Letter Grade:\", grade)"
   ]
  },
  {
   "cell_type": "code",
   "execution_count": null,
   "id": "45fb0b5c",
   "metadata": {},
   "outputs": [],
   "source": []
  }
 ],
 "metadata": {
  "kernelspec": {
   "display_name": "Python 3 (ipykernel)",
   "language": "python",
   "name": "python3"
  },
  "language_info": {
   "codemirror_mode": {
    "name": "ipython",
    "version": 3
   },
   "file_extension": ".py",
   "mimetype": "text/x-python",
   "name": "python",
   "nbconvert_exporter": "python",
   "pygments_lexer": "ipython3",
   "version": "3.11.4"
  }
 },
 "nbformat": 4,
 "nbformat_minor": 5
}
